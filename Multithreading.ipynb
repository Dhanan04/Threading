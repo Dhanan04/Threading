{
 "cells": [
  {
   "cell_type": "markdown",
   "id": "b0989070",
   "metadata": {},
   "source": [
    "#Ans1.) \n",
    "\n",
    "Multithreading in Python refers to the concurrent execution of multiple threads within a single process. Threads are lighter than processes, and they share the same memory space, making communication between them more efficient. Multithreading is used to perform multiple tasks concurrently, thus improving the overall performance of the program.\n",
    "\n",
    "The module used to handle threads in Python is called threading"
   ]
  },
  {
   "cell_type": "code",
   "execution_count": null,
   "id": "0ff92c70",
   "metadata": {},
   "outputs": [],
   "source": []
  },
  {
   "cell_type": "markdown",
   "id": "bc994c52",
   "metadata": {},
   "source": [
    "#Ans2.)\n",
    "\n",
    "The threading module in Python is used to create and manage threads within a Python program, Threading allows certain tasks, such as user interface updates or I/O operations, to be performed in the background without blocking the main execution thread. This ensures that the application remains responsive to user input or other external events\n",
    "\n",
    "activeCount: Returns the number of Thread objects currently alive.\n",
    "\n",
    "currentThread: Returns the current Thread object.\n",
    "\n",
    "enumerate: Returns a list of all Thread objects currently alive"
   ]
  },
  {
   "cell_type": "code",
   "execution_count": null,
   "id": "9f40774e",
   "metadata": {},
   "outputs": [],
   "source": []
  },
  {
   "cell_type": "markdown",
   "id": "395a1c8d",
   "metadata": {},
   "source": [
    "#Ans3.)\n",
    "\n",
    "run: This method is the entry point for the thread. It defines the behavior of the thread when it is started.\n",
    "\n",
    "start: This method starts the execution of the thread by calling its run method.\n",
    "\n",
    "join: This method blocks the calling thread until the thread whose join method is called terminates.\n",
    "\n",
    "isAlive: This method returns True if the thread is currently executing."
   ]
  },
  {
   "cell_type": "code",
   "execution_count": null,
   "id": "3eb9b948",
   "metadata": {},
   "outputs": [],
   "source": []
  },
  {
   "cell_type": "code",
   "execution_count": 2,
   "id": "c8aa85ac",
   "metadata": {},
   "outputs": [
    {
     "name": "stdout",
     "output_type": "stream",
     "text": [
      "Square of 1 is 1\n",
      "Square of 2 is 4\n",
      "Square of 3 is 9\n",
      "Square of 4 is 16\n",
      "Square of 5 is 25\n",
      "Cube of 1 is 1\n",
      "Cube of 2 is 8\n",
      "Cube of 3 is 27\n",
      "Cube of 4 is 64\n",
      "Cube of 5 is 125\n",
      "Program executed successfully!\n"
     ]
    }
   ],
   "source": [
    "#Ans4.)\n",
    "\n",
    "import threading\n",
    "\n",
    "def print_squares():\n",
    "    for i in range(1, 6):\n",
    "        print(f\"Square of {i} is {i*i}\")\n",
    "\n",
    "def print_cubes():\n",
    "    for i in range(1, 6):\n",
    "        print(f\"Cube of {i} is {i*i*i}\")\n",
    "\n",
    "t1 = threading.Thread(target=print_squares)\n",
    "t2 = threading.Thread(target=print_cubes)\n",
    "\n",
    "t1.start()\n",
    "t2.start()\n",
    "\n",
    "t1.join()\n",
    "t2.join()\n",
    "\n",
    "print(\"Program executed successfully!\")\n"
   ]
  },
  {
   "cell_type": "code",
   "execution_count": null,
   "id": "bea379ad",
   "metadata": {},
   "outputs": [],
   "source": []
  },
  {
   "cell_type": "markdown",
   "id": "7620744c",
   "metadata": {},
   "source": [
    "#Ans5.)\n",
    "\n",
    "Advantages:\n",
    "\n",
    "Improved performance: Multithreading allows for concurrent execution of tasks, which can lead to better CPU utilization and faster execution times.\n",
    "\n",
    "Responsiveness: Multithreading enables an application to remain responsive to user input while performing other tasks in the background.\n",
    "\n",
    "Resource sharing: Threads within the same process can share resources such as memory, reducing overhead compared to inter-process communication.\n",
    "\n",
    "\n",
    "Disadvantages:\n",
    "\n",
    "Complexity: Multithreading introduces complexity into the program, making it harder to reason about and debug.\n",
    "\n",
    "Synchronization issues: Concurrent access to shared resources can lead to synchronization problems like race conditions and deadlocks.\n",
    "\n",
    "Overhead: Creating and managing threads has its own overhead, and excessive threading can lead to decreased performance due to context switching."
   ]
  },
  {
   "cell_type": "code",
   "execution_count": null,
   "id": "93fbbb7a",
   "metadata": {},
   "outputs": [],
   "source": []
  },
  {
   "cell_type": "markdown",
   "id": "af27425a",
   "metadata": {},
   "source": [
    "#Ans6.)\n",
    "\n",
    "Deadlock: Deadlock occurs when two or more threads are blocked indefinitely, waiting for each other to release resources they need to proceed. In a deadlock situation, none of the threads can make progress. Deadlocks are typically caused by improper synchronization of resources.\n",
    "\n",
    "Race conditions: Race conditions occur when the behavior of a program depends on the timing or interleaving of multiple threads. It arises when multiple threads access shared resources concurrently and the outcome of the execution depends on the order of execution. Race conditions can lead to unpredictable behavior and incorrect results. Proper synchronization techniques like locks and mutexes are used to prevent race conditions"
   ]
  },
  {
   "cell_type": "code",
   "execution_count": null,
   "id": "f512cb8d",
   "metadata": {},
   "outputs": [],
   "source": []
  }
 ],
 "metadata": {
  "kernelspec": {
   "display_name": "Python 3 (ipykernel)",
   "language": "python",
   "name": "python3"
  },
  "language_info": {
   "codemirror_mode": {
    "name": "ipython",
    "version": 3
   },
   "file_extension": ".py",
   "mimetype": "text/x-python",
   "name": "python",
   "nbconvert_exporter": "python",
   "pygments_lexer": "ipython3",
   "version": "3.11.4"
  }
 },
 "nbformat": 4,
 "nbformat_minor": 5
}
